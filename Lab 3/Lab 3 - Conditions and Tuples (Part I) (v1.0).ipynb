{
 "cells": [
  {
   "cell_type": "markdown",
   "metadata": {},
   "source": [
    "<table class=\"table table-bordered\">\n",
    "    <tr>\n",
    "        <th style=\"text-align:center; width:35%\"><img src='https://dl.dropbox.com/s/qtzukmzqavebjd2/icon_smu.jpg' style=\"width: 300px; height: 90px; \"></th>\n",
    "        <th style=\"text-align:center;\"><h3>IS111 - Lab 3</h3><h3>Conditions and Tuples</h3><h3>Part I</h3></th>\n",
    "    </tr>\n",
    "</table>"
   ]
  },
  {
   "cell_type": "markdown",
   "metadata": {},
   "source": [
    "### Q1 [ \\* ]: Code Tracing\n",
    "\n",
    "You are given the following code. Without running the code, could you figure out what's the output of the code?\n",
    "\n",
    "#### a)"
   ]
  },
  {
   "cell_type": "code",
   "execution_count": null,
   "metadata": {},
   "outputs": [],
   "source": [
    "def perform_magic1(condition, output):\n",
    "    if (condition):\n",
    "        print(output)\n",
    "\n",
    "\n",
    "def perform_magic2(condition, output):\n",
    "    if (condition):\n",
    "        print(output)\n",
    "    else:\n",
    "        print(\"The condition is false!\")\n",
    "\n",
    "def perform_magic3(a, b):\n",
    "    if (a >= b):\n",
    "        print(\"a >= b\")\n",
    " \n",
    "    if (a <= b):\n",
    "        print(\"a <= b\")\n",
    "\n",
    "a = 12\n",
    "b = 15\n",
    "\n",
    "perform_magic1(a == b, \"a == b\")\n",
    "perform_magic2(a > b, \"a > b\")\n",
    "perform_magic3(a + 3, b)\n",
    "\n",
    "# Answers \n",
    "# For perform_magic1, the condition is false since 12 is not equal to 15.Thus, there will be no output. \n",
    "# For perform_magic2, the condition is false since 12 is not larger than 15. Thus, the output will be \"The condition is false!\"\n",
    "# For perform_magic3, both the conditions are true, since a+3 = 12+ 3 = 15, and this new value of a is equal to b. \n",
    "# Thus, the output will be \"a >= b\" and \"a <= b\". \n"
   ]
  },
  {
   "cell_type": "markdown",
   "metadata": {},
   "source": [
    "#### b)"
   ]
  },
  {
   "cell_type": "code",
   "execution_count": null,
   "metadata": {},
   "outputs": [],
   "source": [
    "def compare_values_1(a, b):\n",
    "    if (a != b):\n",
    "        return True\n",
    "    else:\n",
    "        return False\n",
    "    \n",
    "def compare_values_2(a, b, c):\n",
    "    if (a == b + c):\n",
    "        print(\"a == b + c\")\n",
    "    if (b == a + c):\n",
    "        print(\"b == a + c\")\n",
    "    if (c == a + b):\n",
    "        print(\"c == a + b\")\n",
    "\n",
    "print(compare_values_1(\"1 + 2\", \"3\"))\n",
    "compare_values_2('1', '', '1')\n",
    "\n",
    "\n",
    "# Answers \n",
    "# For compare_values_1, the output will be \"True\" as the given arguments are strings and therefore cannot be added together. \n",
    "# For compare_values_2, b is not a space as there is no space between the quotation marks. \n",
    "# Thus, the output will be \"a == b + c\" and \"c == a + b\" as the first and third conditions are met. \n",
    "# The second condition for this function is not met since a + c = 11. \n"
   ]
  },
  {
   "cell_type": "markdown",
   "metadata": {},
   "source": [
    "### Q2 [ \\*\\* ] : Online Shopping\n",
    "\n",
    "<b>Part I</b>\n",
    "\n",
    "Suppose you are purchasing some Christmas gifts on an online retail website. At the website, you get 10% discount if you are a member. If an item is on sale (regardless of whether you are a member or not), you get 5% discount. (So if you are a member and you are buying an item on sale, you get 15% discount.)\n",
    "\n",
    "Write a function called `calculate_price` that takes in three parameters: the cost of the item that you are purchasing (a `float`), a Boolean variable indicating whether you are a member or not, and another Boolean value indicating whether the item is on sale or not. The function applies the discount appropriately and <b>returns</b> the final discounted price of the item."
   ]
  },
  {
   "cell_type": "code",
   "execution_count": 5,
   "metadata": {},
   "outputs": [],
   "source": [
    "# These variables are defined for you to use.\n",
    "MEMBER_DISCOUNT_RATE = 0.10\n",
    "SALE_ITEM_DISCOUNT_RATE = 0.05\n",
    "\n",
    "# This function is for you to implement!\n",
    "def calculate_price(orig_price, is_member, is_on_sale):\n",
    "    \n",
    "    # ################################################################################\n",
    "    # Modify the code below to return the correct discounted price.\n",
    "    if is_on_sale: \n",
    "        if is_member: \n",
    "            discount = MEMBER_DISCOUNT_RATE + SALE_ITEM_DISCOUNT_RATE\n",
    "        else: \n",
    "            discount = SALE_ITEM_DISCOUNT_RATE\n",
    "    else: \n",
    "        if is_member: \n",
    "            discount = MEMBER_DISCOUNT_RATE\n",
    "        else: \n",
    "            discount = 0\n",
    "\n",
    "    return orig_price * (1 - discount)\n",
    "    # ################################################################################"
   ]
  },
  {
   "cell_type": "markdown",
   "metadata": {},
   "source": [
    "<b>Part II</b>\n",
    "\n",
    "Now write Python code that prompts the user for the following information: (1) The original price of the item. (2) Whether the user is a member or not. (3) Whether the item is on sale or not.\n",
    "\n",
    "The code then displays the final price of the item.\n",
    "\n",
    "Use the function you have implemented above to help you with this part.\n",
    "\n",
    "Two sample runs of the code can be found below. You can assume that for the second and the third inputs, the user is always going to enter either `'yes'` or `'no'` in lowercase."
   ]
  },
  {
   "cell_type": "markdown",
   "metadata": {},
   "source": [
    "<img align=\"left\" src='https://drive.google.com/uc?export=view&id=0B3N0YMArBdSBclhyeHR6OEdtaWs' style=\"width: 400px\">"
   ]
  },
  {
   "cell_type": "markdown",
   "metadata": {},
   "source": [
    "<img align=\"left\" src='https://drive.google.com/uc?export=view&id=0B3N0YMArBdSBbFk3NmZKWUlDUVU' style=\"width: 400px\">"
   ]
  },
  {
   "cell_type": "code",
   "execution_count": 30,
   "metadata": {},
   "outputs": [
    {
     "name": "stdout",
     "output_type": "stream",
     "text": [
      "What's the original price of the item: $10.0\n",
      "Are you a member [yes|no]?yes\n",
      "Is the item on sale [yes|no]?yes\n",
      "The final price of the item is $ 8.5\n"
     ]
    }
   ],
   "source": [
    "# Write your code below:\n",
    "orig_price = float(input(\"What's the original price of the item: $\"))\n",
    "is_member = input(\"Are you a member [yes|no]?\") \n",
    "is_on_sale = input(\"Is the item on sale [yes|no]?\")\n",
    "\n",
    "print (\"The final price of the item is $\", str(calculate_price(orig_price, is_member, is_on_sale)))"
   ]
  },
  {
   "cell_type": "markdown",
   "metadata": {},
   "source": [
    "### Q3 [ \\*\\* ] : Monthly Salary\n",
    "\n",
    "A shop pays its sales staff based on each salesperson’s monthly sales. Each salesperson is paid a base monthly salary of $2000 plus commission based on the following table:\n",
    "\n",
    "| Monthly Sales ($) | Commission Rate (%) |\n",
    "| --- | --- |\n",
    "| below 10,000 | 5 |\n",
    "| 10,000 (inclusive) to 15,000 (exclusive) | 10 |\n",
    "| 15,000 (inclusive) to 18,000 (exclusive) | 15 |\n",
    "| 18,000 and above | 18 |\n",
    "\n",
    "<b>Part I</b>\n",
    "\n",
    "Implement a function in Python called `calculate_salary` that takes in a salesperson's monthly sales amount ($) and calculate this salesperson's total salary (base salary plus commission) for that month."
   ]
  },
  {
   "cell_type": "code",
   "execution_count": 12,
   "metadata": {},
   "outputs": [],
   "source": [
    "# This function is for you to implement!\n",
    "def calculate_salary(monthly_sales):\n",
    "    \n",
    "    # This variable is defined for you to use.\n",
    "    BASE_SALARY = 2000.0\n",
    "    \n",
    "    # ################################################################################\n",
    "    # Modify the code below to return the right amount of salary.\n",
    "    if monthly_sales >= 18000: \n",
    "        commission = 0.18\n",
    "    elif monthly_sales >= 15000: \n",
    "        commission = 0.15 \n",
    "    elif monthly_sales >= 10000: \n",
    "        commission = 0.10\n",
    "    else: \n",
    "        commission = 0.05\n",
    "    \n",
    "    return BASE_SALARY + commission * monthly_sales\n",
    "    # ################################################################################"
   ]
  },
  {
   "cell_type": "markdown",
   "metadata": {},
   "source": [
    "<b>Part II</b>\n",
    "\n",
    "Now prompt the user for a monthly sales amount. Call the function above to calculate the total monthly salary and display the amount.\n",
    "\n",
    "Two sample runs of the code are shown as follows:"
   ]
  },
  {
   "cell_type": "markdown",
   "metadata": {},
   "source": [
    "<img align=\"left\" src='https://drive.google.com/uc?export=view&id=0B3N0YMArBdSBTTdRMm0xNkR2bE0' style=\"width: 450px\">"
   ]
  },
  {
   "cell_type": "markdown",
   "metadata": {},
   "source": [
    "<img align=\"left\" src='https://drive.google.com/uc?export=view&id=0B3N0YMArBdSBa2tlaFExZ2xaa1U' style=\"width: 450px\">"
   ]
  },
  {
   "cell_type": "code",
   "execution_count": 13,
   "metadata": {},
   "outputs": [
    {
     "name": "stdout",
     "output_type": "stream",
     "text": [
      "Enter monthly sales amount($)14450\n",
      "The monthly pay for the salesperson is $ 3445.0\n"
     ]
    }
   ],
   "source": [
    "# Write your code below\n",
    "monthly_sales = int(input(\"Enter monthly sales amount($)\"))\n",
    "print (\"The monthly pay for the salesperson is $\", str(calculate_salary(monthly_sales)))\n"
   ]
  },
  {
   "cell_type": "markdown",
   "metadata": {},
   "source": [
    "### Q4 [ \\*\\* ]: Zoo Ticket\n",
    "\n",
    "\n",
    "The Singapore Zoo offers the following prices to its visitors based on the visitor's age:\n",
    "\n",
    "<ul>\n",
    "<li>Adult: \\$33 (full rate)</li>\n",
    "<li>Child (3 - 12, both inclusive): \\$22 (discounted rate)</li>\n",
    "<li>Senior Citizen (60 and above): \\$15 (discounted rate)</li>\n",
    "</ul>\n",
    "\n",
    "It is free for children below 3.\n",
    "\n",
    "#### a) define `get_ticket_info`\n",
    "\n",
    "Write a function called `get_ticket_info` that takes in the age of a visitor. The function returns a tuple that contains two values: (1) The price this person has to pay for his/her ticket. (2) A Boolean value indicating whether or not the person has got a discounted price. Note that children below 3 pay $0 and are also considered to receive a discounted price.\n",
    "\n",
    "Use the test code we have provided below to test your implmentation."
   ]
  },
  {
   "cell_type": "code",
   "execution_count": 17,
   "metadata": {},
   "outputs": [
    {
     "name": "stdout",
     "output_type": "stream",
     "text": [
      "(33, False)\n",
      "(22, True)\n"
     ]
    }
   ],
   "source": [
    "# The following function is for you to implement.\n",
    "def get_ticket_info(age):\n",
    "    \n",
    "    # Modify the code below to return the right value\n",
    "    if age > 60: \n",
    "        discount_price = True \n",
    "        price = 15\n",
    "    elif age > 12: \n",
    "        discount_price = False\n",
    "        price = 33\n",
    "    elif age > 2: \n",
    "        discount_price = True \n",
    "        price = 22 \n",
    "    else: \n",
    "        discount_price = True \n",
    "        price = 0\n",
    "    \n",
    "    return (price, discount_price)\n",
    "    \n",
    "# ################################################################################\n",
    "# The code below is to test your implementation of the function above. \n",
    "# DO NOT MODIFY THE CODE BELOW!\n",
    "\n",
    "# The following line of code should display (33, False)\n",
    "print(get_ticket_info(40))\n",
    "\n",
    "# The following line of code should display (22, True)\n",
    "print(get_ticket_info(10))"
   ]
  },
  {
   "cell_type": "markdown",
   "metadata": {},
   "source": [
    "#### b) use `get_ticket_info`\n",
    "\n",
    "Now use the `get_ticket_info` function you have implemented above to write a piece of code that does the following:\n",
    "\n",
    "Prompt the user for his/her age. If the user qualifies for a discounted ticket, display the message `\"Congratulations! You qualify for a discount.\"` Then display the price of the ticket for this user no matter whether he/she qualifies for a discount.\n",
    "\n",
    "Two sample runs of the code can be found below:"
   ]
  },
  {
   "cell_type": "markdown",
   "metadata": {
    "collapsed": true
   },
   "source": [
    "<img align=\"left\" src='https://drive.google.com/uc?export=view&id=0B3N0YMArBdSBakxqZTBUb0hxSEU' style=\"width: 180px\">"
   ]
  },
  {
   "cell_type": "markdown",
   "metadata": {
    "collapsed": true
   },
   "source": [
    "<img align=\"left\" src='https://drive.google.com/uc?export=view&id=0B3N0YMArBdSBd1NvNTJpcWJvV1k' style=\"width: 400px\">"
   ]
  },
  {
   "cell_type": "code",
   "execution_count": 29,
   "metadata": {},
   "outputs": [
    {
     "name": "stdout",
     "output_type": "stream",
     "text": [
      "How old are you? 10\n",
      "Congratulations! You qualify for a discount.\n",
      "You need to pay $ 22\n"
     ]
    }
   ],
   "source": [
    "# Write your code below.\n",
    "age = int(input(\"How old are you? \"))\n",
    "if get_ticket_info(age)[1]:\n",
    "    print (\"Congratulations! You qualify for a discount.\")\n",
    "print (\"You need to pay $\", str(get_ticket_info(age)[0]))\n"
   ]
  },
  {
   "cell_type": "markdown",
   "metadata": {
    "collapsed": true
   },
   "source": [
    "### Please refer to the Word document for Part II of Lab 3"
   ]
  }
 ],
 "metadata": {
  "kernelspec": {
   "display_name": "Python 3",
   "language": "python",
   "name": "python3"
  },
  "language_info": {
   "codemirror_mode": {
    "name": "ipython",
    "version": 3
   },
   "file_extension": ".py",
   "mimetype": "text/x-python",
   "name": "python",
   "nbconvert_exporter": "python",
   "pygments_lexer": "ipython3",
   "version": "3.8.5"
  }
 },
 "nbformat": 4,
 "nbformat_minor": 2
}
