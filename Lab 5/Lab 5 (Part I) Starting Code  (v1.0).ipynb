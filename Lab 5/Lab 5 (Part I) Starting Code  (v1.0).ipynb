{
 "cells": [
  {
   "cell_type": "markdown",
   "metadata": {},
   "source": [
    "### Q1 - Initials"
   ]
  },
  {
   "cell_type": "code",
   "execution_count": 12,
   "metadata": {},
   "outputs": [
    {
     "name": "stdout",
     "output_type": "stream",
     "text": [
      "How many people will attend the meeting? 5\n",
      "Participant 1: John Smith\n",
      "Participant 2: Jerry Lee Xiong Yi\n",
      "Participant 3: Eric Wong Kee Wei\n",
      "Participant 4: Felicia Koh\n",
      "Participant 5: Julia Chan\n",
      " \n",
      " \n",
      "The initials of the participants are as follows:\n",
      "JS\n",
      "JLXY\n",
      "EWKW\n",
      "FK\n",
      "JC\n"
     ]
    }
   ],
   "source": [
    "# Put your code below\n",
    "\n",
    "total = int(input(\"How many people will attend the meeting? \"))\n",
    "caps = \"ABCDEFGHIJKLMNOPQRSTUVWXYZ\"\n",
    "collection = []\n",
    "\n",
    "for i in range (1, total+1): \n",
    "    name = input(\"Participant \" + str(i) + \": \")\n",
    "    initials = \"\"\n",
    "    for ch in name: \n",
    "        if ch in caps: \n",
    "            initials += ch\n",
    "        else: initials += \"\"\n",
    "    collection.append(initials)\n",
    "\n",
    "print (\" \")\n",
    "print (\" \")\n",
    "print (\"The initials of the participants are as follows:\")\n",
    "for item in collection:\n",
    "    print (item)\n"
   ]
  },
  {
   "cell_type": "markdown",
   "metadata": {},
   "source": [
    "### Q2: List of Numbers"
   ]
  },
  {
   "cell_type": "markdown",
   "metadata": {},
   "source": [
    "#### Part (a)"
   ]
  },
  {
   "cell_type": "code",
   "execution_count": 16,
   "metadata": {},
   "outputs": [],
   "source": [
    "# Put your code below\n",
    "\n",
    "def get_leap_years(years):\n",
    "    leap_years = []\n",
    "    for year in years: \n",
    "        if year % 4 == 0: \n",
    "            if year % 100 == 0:\n",
    "                if year % 400 == 0: \n",
    "                    leap_years.append(year)\n",
    "            else: \n",
    "                leap_years.append(year)\n",
    "    return  leap_years          \n",
    "            \n",
    "# from Wikipedia: \n",
    "# if (year is not divisible by 4) then (it is a common year)\n",
    "# else if (year is not divisible by 100) then (it is a leap year)\n",
    "# else if (year is not divisible by 400) then (it is a common year)\n",
    "# else (it is a leap year)"
   ]
  },
  {
   "cell_type": "code",
   "execution_count": 17,
   "metadata": {},
   "outputs": [
    {
     "name": "stdout",
     "output_type": "stream",
     "text": [
      "Test Case 1\n",
      "-----------\n",
      "Expected: [2000, 2020]\n",
      "Actual:   [2000, 2020]\n",
      "\n",
      "Test Case 2\n",
      "-----------\n",
      "Expected: []\n",
      "Actual:   []\n"
     ]
    }
   ],
   "source": [
    "# Test cases used to test your function\n",
    "\n",
    "print('Test Case 1')\n",
    "print('-' * 11)\n",
    "print('Expected: [2000, 2020]')\n",
    "print('Actual:   ' + str(get_leap_years([2018, 2000, 1800, 1900, 2011, 2020])))\n",
    "\n",
    "print('\\nTest Case 2')\n",
    "print('-' * 11)\n",
    "print('Expected: []')\n",
    "print('Actual:   ' + str(get_leap_years([2018, 2001, 1800, 1900, 2011, 2100])))\n"
   ]
  },
  {
   "cell_type": "markdown",
   "metadata": {},
   "source": [
    "#### Part (b)"
   ]
  },
  {
   "cell_type": "code",
   "execution_count": 24,
   "metadata": {},
   "outputs": [],
   "source": [
    "# Put your code below\n",
    "\n",
    "def all_older_than(age_list,n):\n",
    "    if age_list == []: \n",
    "        return (\"True\")\n",
    "    else: \n",
    "        younger_than = 0 \n",
    "        for age in age_list: \n",
    "            if age < n:\n",
    "                younger_than += 1\n",
    "        if younger_than != 0: \n",
    "            return (\"False\")\n",
    "        else: \n",
    "            return (\"True\")\n",
    "\n",
    "# if age_list is empty, the function returns True. "
   ]
  },
  {
   "cell_type": "code",
   "execution_count": 26,
   "metadata": {},
   "outputs": [
    {
     "name": "stdout",
     "output_type": "stream",
     "text": [
      "Test Case 1\n",
      "-----------\n",
      "Expected: True\n",
      "Actual:   True\n",
      "\n",
      "Test Case 2\n",
      "-----------\n",
      "Expected: False\n",
      "Actual:   False\n"
     ]
    }
   ],
   "source": [
    "# Test cases used to test your function\n",
    "\n",
    "print('Test Case 1')\n",
    "print('-' * 11)\n",
    "print('Expected: True')\n",
    "print('Actual:   ' + str(all_older_than([24, 36, 45, 21], 20)))\n",
    "\n",
    "print('\\nTest Case 2')\n",
    "print('-' * 11)\n",
    "print('Expected: False')\n",
    "print('Actual:   ' + str(all_older_than([24, 36, 45, 21], 23)))"
   ]
  },
  {
   "cell_type": "markdown",
   "metadata": {},
   "source": [
    "#### Part (c)"
   ]
  },
  {
   "cell_type": "code",
   "execution_count": 29,
   "metadata": {},
   "outputs": [],
   "source": [
    "# Put your code below\n",
    "\n",
    "def get_sum_multiples(int_list, n): \n",
    "    total = 0\n",
    "    for integer in int_list:\n",
    "        if integer % n == 0: \n",
    "            total += integer\n",
    "    return total\n"
   ]
  },
  {
   "cell_type": "code",
   "execution_count": 30,
   "metadata": {},
   "outputs": [
    {
     "name": "stdout",
     "output_type": "stream",
     "text": [
      "Test Case 1\n",
      "-----------\n",
      "Expected: 24\n",
      "Actual:   24\n",
      "\n",
      "Test Case 2\n",
      "-----------\n",
      "Expected: 20\n",
      "Actual:   20\n"
     ]
    }
   ],
   "source": [
    "# Test cases used to test your function\n",
    "\n",
    "print('Test Case 1')\n",
    "print('-' * 11)\n",
    "print('Expected: 24')\n",
    "print('Actual:   ' + str(get_sum_multiples([2, 4, 5, 9, 13, 15], 3)))\n",
    "\n",
    "print('\\nTest Case 2')\n",
    "print('-' * 11)\n",
    "print('Expected: 20')\n",
    "print('Actual:   ' + str(get_sum_multiples([2, 4, 5, 9, 13, 15], 5)))\n"
   ]
  },
  {
   "cell_type": "markdown",
   "metadata": {},
   "source": [
    "#### Part (d)"
   ]
  },
  {
   "cell_type": "code",
   "execution_count": 77,
   "metadata": {},
   "outputs": [],
   "source": [
    "# Put your code below\n",
    "\n",
    "def get_prime_numbers(num_list, sep): \n",
    "    prime_numbers = []\n",
    "    string = \"\"\n",
    "    \n",
    "    for number in num_list: \n",
    "        if number == 0 or number == 1: \n",
    "            pass\n",
    "        elif number == 2: \n",
    "            prime_numbers.append(number)\n",
    "        else: \n",
    "            limit = int(number ** 0.5)  \n",
    "            composite = 0\n",
    "            for i in range (2, limit+1):\n",
    "                if number % i == 0: \n",
    "                    composite += 1 \n",
    "            if composite == 0:  \n",
    "                prime_numbers.append(number)\n",
    "    \n",
    "    x = len(prime_numbers) - 1\n",
    "    for i in range(x): \n",
    "         string = string + str(prime_numbers[i]) + str(sep)\n",
    "            \n",
    "    string = string + str(prime_numbers[x])\n",
    "    \n",
    "    return string\n",
    "\n",
    "# First, numbers like 0 and 1 which are obviously not prime are excluded. \n",
    "# If the number is 2, it is prime and appended to the list of prime numbers. \n",
    "# All other numbers are tested with the trial division method. \n",
    "# The number is divided by all integers from 2 to the square root of n. \n",
    "# Any such integer dividing the number evenly establishes the number as composite; otherwise it is prime.\n"
   ]
  },
  {
   "cell_type": "code",
   "execution_count": 79,
   "metadata": {},
   "outputs": [
    {
     "name": "stdout",
     "output_type": "stream",
     "text": [
      "Test Case 1\n",
      "-----------\n",
      "Expected: 2-7-11-19\n",
      "Actual:   2-7-11-19\n",
      "\n",
      "Test Case 2\n",
      "-----------\n",
      "Expected: 3\n",
      "Actual:   3\n"
     ]
    }
   ],
   "source": [
    "# Test cases used to test your function\n",
    "\n",
    "print('Test Case 1')\n",
    "print('-' * 11)\n",
    "print('Expected: 2-7-11-19')\n",
    "print('Actual:   ' + str(get_prime_numbers([2, 4, 7, 9, 11, 16, 19, 21], '-')))\n",
    "\n",
    "print('\\nTest Case 2')\n",
    "print('-' * 11)\n",
    "print('Expected: 3')\n",
    "print('Actual:   ' + str(get_prime_numbers([3, 4, 8, 9, 12, 16], '*')))\n"
   ]
  },
  {
   "cell_type": "markdown",
   "metadata": {},
   "source": [
    "#### Part (e)"
   ]
  },
  {
   "cell_type": "code",
   "execution_count": 80,
   "metadata": {},
   "outputs": [],
   "source": [
    "# Put your code below\n",
    "\n",
    "def calculate_sums(num_list): \n",
    "    num_list2 = []\n",
    "    total = 0 \n",
    "    for number in num_list: \n",
    "        total += number \n",
    "        num_list2.append(total)\n",
    "    return (num_list2)\n",
    "\n",
    "# Corner case of empty list"
   ]
  },
  {
   "cell_type": "code",
   "execution_count": 82,
   "metadata": {},
   "outputs": [
    {
     "name": "stdout",
     "output_type": "stream",
     "text": [
      "Test Case 1\n",
      "-----------\n",
      "Expected: [2, 5, 11, 12, 17]\n",
      "Actual:   [2, 5, 11, 12, 17]\n",
      "\n",
      "Test Case 2\n",
      "-----------\n",
      "Expected: []\n",
      "Actual:   []\n"
     ]
    }
   ],
   "source": [
    "# Test cases used to test your function\n",
    "\n",
    "print('Test Case 1')\n",
    "print('-' * 11)\n",
    "print('Expected: [2, 5, 11, 12, 17]')\n",
    "print('Actual:   ' + str(calculate_sums([2, 3, 6, 1, 5])))\n",
    "\n",
    "print('\\nTest Case 2')\n",
    "print('-' * 11)\n",
    "print('Expected: []')\n",
    "print('Actual:   ' + str(calculate_sums([])))"
   ]
  },
  {
   "cell_type": "markdown",
   "metadata": {},
   "source": [
    "### Q3: Shopping Cart"
   ]
  },
  {
   "cell_type": "markdown",
   "metadata": {},
   "source": [
    "#### Part (a)"
   ]
  },
  {
   "cell_type": "code",
   "execution_count": 92,
   "metadata": {},
   "outputs": [],
   "source": [
    "# Put your code below\n",
    "\n",
    "def calculate_total_price(item_list):\n",
    "    total_price_all = 0 \n",
    "    for item in item_list: \n",
    "        price = item[1]\n",
    "        quantity = item[2]\n",
    "        total_price_item = price * quantity \n",
    "        total_price_all += total_price_item \n",
    "    return total_price_all \n"
   ]
  },
  {
   "cell_type": "code",
   "execution_count": 93,
   "metadata": {},
   "outputs": [
    {
     "name": "stdout",
     "output_type": "stream",
     "text": [
      "Test Case 1\n",
      "-----------\n",
      "Expected: 31.15\n",
      "Actual:   31.15\n"
     ]
    }
   ],
   "source": [
    "# Test cases used to test your function\n",
    "\n",
    "print('Test Case 1')\n",
    "print('-' * 11)\n",
    "item_list = [(\"milk\", 5.45, 2), (\"eggs\", 2.45, 1), (\"shampoo\", 8.90, 2)]\n",
    "print('Expected: 31.15')\n",
    "print('Actual:   ' + str(round(calculate_total_price(item_list),2)))"
   ]
  },
  {
   "cell_type": "markdown",
   "metadata": {},
   "source": [
    "#### Part (b)"
   ]
  },
  {
   "cell_type": "code",
   "execution_count": 90,
   "metadata": {},
   "outputs": [],
   "source": [
    "# Put your code below\n",
    "\n",
    "def get_items(item_list): \n",
    "    name_list = []\n",
    "    for item in item_list: \n",
    "        name = item[0]\n",
    "        name_list.append(name)\n",
    "    return name_list\n"
   ]
  },
  {
   "cell_type": "code",
   "execution_count": 94,
   "metadata": {},
   "outputs": [
    {
     "name": "stdout",
     "output_type": "stream",
     "text": [
      "Test Case 1\n",
      "-----------\n",
      "Expected: ['milk', 'eggs', 'shampoo']\n",
      "Actual:   ['milk', 'eggs', 'shampoo']\n",
      "\n",
      "Test Case 2\n",
      "-----------\n",
      "Expected: []\n",
      "Actual:   []\n"
     ]
    }
   ],
   "source": [
    "# Test cases used to test your function\n",
    "\n",
    "print('Test Case 1')\n",
    "print('-' * 11)\n",
    "item_list = [(\"milk\", 5.45, 2), (\"eggs\", 2.45, 1), (\"shampoo\", 8.90, 2)]\n",
    "print(\"Expected: ['milk', 'eggs', 'shampoo']\")\n",
    "print('Actual:   ' + str(get_items(item_list)))\n",
    "\n",
    "print('\\nTest Case 2')\n",
    "print('-' * 11)\n",
    "item_list = []\n",
    "print(\"Expected: []\")\n",
    "print('Actual:   ' + str(get_items(item_list)))"
   ]
  },
  {
   "cell_type": "markdown",
   "metadata": {},
   "source": [
    "#### Part (c)"
   ]
  },
  {
   "cell_type": "code",
   "execution_count": 99,
   "metadata": {},
   "outputs": [],
   "source": [
    "# Put your code below\n",
    "\n",
    "def get_items_more_expensive_than(item_list, min_price): \n",
    "    more_expensive_items_list = []\n",
    "    for item in item_list: \n",
    "        name = item[0] \n",
    "        price = item[1]\n",
    "        quantity = item[2]\n",
    "        \n",
    "        if price > min_price: \n",
    "            item_tuple = (name, price)\n",
    "            more_expensive_items_list.append(item_tuple)\n",
    "    return more_expensive_items_list\n"
   ]
  },
  {
   "cell_type": "code",
   "execution_count": 100,
   "metadata": {},
   "outputs": [
    {
     "name": "stdout",
     "output_type": "stream",
     "text": [
      "Test Case 1\n",
      "-----------\n",
      "Expected: [('milk', 5.45, 2), ('shampoo', 8.9, 2)]\n",
      "Actual:   [('milk', 5.45), ('shampoo', 8.9)]\n",
      "\n",
      "Test Case 2\n",
      "-----------\n",
      "Expected: []\n",
      "Actual:   []\n"
     ]
    }
   ],
   "source": [
    "# Test cases used to test your function\n",
    "\n",
    "print('Test Case 1')\n",
    "print('-' * 11)\n",
    "item_list = [(\"milk\", 5.45, 2), (\"eggs\", 2.45, 1), (\"shampoo\", 8.90, 2)]\n",
    "print(\"Expected: [('milk', 5.45, 2), ('shampoo', 8.9, 2)]\")\n",
    "print('Actual:   ' + str(get_items_more_expensive_than(item_list, 3.0)))\n",
    "\n",
    "print('\\nTest Case 2')\n",
    "print('-' * 11)\n",
    "item_list = []\n",
    "print(\"Expected: []\")\n",
    "print('Actual:   ' + str(get_items_more_expensive_than(item_list, 3.0)))"
   ]
  },
  {
   "cell_type": "code",
   "execution_count": null,
   "metadata": {},
   "outputs": [],
   "source": []
  },
  {
   "cell_type": "code",
   "execution_count": null,
   "metadata": {},
   "outputs": [],
   "source": []
  }
 ],
 "metadata": {
  "kernelspec": {
   "display_name": "Python 3",
   "language": "python",
   "name": "python3"
  },
  "language_info": {
   "codemirror_mode": {
    "name": "ipython",
    "version": 3
   },
   "file_extension": ".py",
   "mimetype": "text/x-python",
   "name": "python",
   "nbconvert_exporter": "python",
   "pygments_lexer": "ipython3",
   "version": "3.8.5"
  }
 },
 "nbformat": 4,
 "nbformat_minor": 2
}
